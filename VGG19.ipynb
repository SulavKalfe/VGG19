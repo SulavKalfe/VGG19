{
 "cells": [
  {
   "cell_type": "code",
   "execution_count": 1,
   "id": "9102a973",
   "metadata": {},
   "outputs": [
    {
     "name": "stdout",
     "output_type": "stream",
     "text": [
      "WARNING:tensorflow:From C:\\Users\\ASUS TUF F15\\AppData\\Roaming\\Python\\Python311\\site-packages\\keras\\src\\losses.py:2976: The name tf.losses.sparse_softmax_cross_entropy is deprecated. Please use tf.compat.v1.losses.sparse_softmax_cross_entropy instead.\n",
      "\n"
     ]
    }
   ],
   "source": [
    "from keras.layers import Input, Lambda, Dense, Flatten,Conv2D, MaxPooling2D\n",
    "from keras.models import Model\n",
    "from keras.applications.vgg19 import VGG19\n",
    "from keras.applications.vgg19 import preprocess_input\n",
    "from keras.preprocessing import image\n",
    "from keras.preprocessing.image import ImageDataGenerator\n",
    "from keras.models import Sequential\n",
    "import matplotlib.pyplot as plt\n",
    "from keras.callbacks import ModelCheckpoint\n",
    "import keras"
   ]
  },
  {
   "cell_type": "code",
   "execution_count": 2,
   "id": "7102279a",
   "metadata": {},
   "outputs": [],
   "source": [
    "train = 'D:/skin disease dataset/IMG_CLASSES'\n",
    "IMAGE_SIZE=[299, 299]"
   ]
  },
  {
   "cell_type": "code",
   "execution_count": 3,
   "id": "7ec3ad53",
   "metadata": {},
   "outputs": [
    {
     "name": "stdout",
     "output_type": "stream",
     "text": [
      "WARNING:tensorflow:From C:\\Users\\ASUS TUF F15\\AppData\\Roaming\\Python\\Python311\\site-packages\\keras\\src\\backend.py:1398: The name tf.executing_eagerly_outside_functions is deprecated. Please use tf.compat.v1.executing_eagerly_outside_functions instead.\n",
      "\n",
      "WARNING:tensorflow:From C:\\Users\\ASUS TUF F15\\AppData\\Roaming\\Python\\Python311\\site-packages\\keras\\src\\layers\\pooling\\max_pooling2d.py:161: The name tf.nn.max_pool is deprecated. Please use tf.nn.max_pool2d instead.\n",
      "\n"
     ]
    }
   ],
   "source": [
    "vgg = VGG19(input_shape=IMAGE_SIZE + [3], weights='imagenet', include_top=False)"
   ]
  },
  {
   "cell_type": "code",
   "execution_count": 4,
   "id": "30ee47b2",
   "metadata": {},
   "outputs": [],
   "source": [
    "for layer in vgg.layers:\n",
    "  layer.trainable = False\n",
    "\n",
    "#for layer in vgg.layers[:15]:\n",
    "#    layer.trainable = False\n",
    "\n",
    "#for i, layer in enumerate(vgg.layers):\n",
    "#    print(i, layer.name, layer.trainable)"
   ]
  },
  {
   "cell_type": "code",
   "execution_count": 5,
   "id": "f6a67ae9",
   "metadata": {},
   "outputs": [],
   "source": [
    "#x = Flatten()(vgg.output)\n",
    "#prediction = Dense(10, activation='softmax')(x)\n",
    "#model = Model(inputs=vgg.input, outputs=prediction)\n",
    "#model.summary()\n",
    "\n",
    "x = Conv2D(128, (3, 3), activation='relu')(vgg.output)\n",
    "x = MaxPooling2D(pool_size=(2, 2))(x)\n",
    "x = Flatten()(x)\n",
    "x = Dense(100,activation='relu')(x)\n",
    "x = Dense(10,activation='softmax')(x)\n",
    "\n",
    "model = Model(inputs=vgg.input, outputs=x)"
   ]
  },
  {
   "cell_type": "code",
   "execution_count": 6,
   "id": "e701fa28",
   "metadata": {},
   "outputs": [
    {
     "name": "stdout",
     "output_type": "stream",
     "text": [
      "WARNING:tensorflow:From C:\\Users\\ASUS TUF F15\\AppData\\Roaming\\Python\\Python311\\site-packages\\keras\\src\\optimizers\\__init__.py:309: The name tf.train.Optimizer is deprecated. Please use tf.compat.v1.train.Optimizer instead.\n",
      "\n"
     ]
    }
   ],
   "source": [
    "model.compile(optimizer='adam', #optimizer='adam'\n",
    "              loss='categorical_crossentropy',\n",
    "              metrics=['accuracy'])"
   ]
  },
  {
   "cell_type": "code",
   "execution_count": 7,
   "id": "0907b894",
   "metadata": {},
   "outputs": [],
   "source": [
    "image_generator = ImageDataGenerator(rescale=1/255, validation_split=0.2, rotation_range=40, width_shift_range=0.2,\n",
    "    height_shift_range=0.2,\n",
    "    shear_range=0.2,\n",
    "    zoom_range=0.2,\n",
    "    horizontal_flip=True,\n",
    "    fill_mode='nearest')"
   ]
  },
  {
   "cell_type": "code",
   "execution_count": 8,
   "id": "642cae0b",
   "metadata": {},
   "outputs": [
    {
     "name": "stdout",
     "output_type": "stream",
     "text": [
      "Found 21726 images belonging to 10 classes.\n"
     ]
    }
   ],
   "source": [
    "train_dataset = image_generator.flow_from_directory(batch_size=16,\n",
    "                                                 directory=train,\n",
    "                                                 shuffle=True,\n",
    "                                                 target_size=(299, 299), \n",
    "                                                 subset=\"training\",\n",
    "                                                 class_mode='categorical')\n"
   ]
  },
  {
   "cell_type": "code",
   "execution_count": 9,
   "id": "0f98bfc9",
   "metadata": {},
   "outputs": [
    {
     "name": "stdout",
     "output_type": "stream",
     "text": [
      "Found 5427 images belonging to 10 classes.\n"
     ]
    }
   ],
   "source": [
    "validation_dataset = image_generator.flow_from_directory(batch_size=16,\n",
    "                                                 directory=train,\n",
    "                                                 shuffle=True,\n",
    "                                                 target_size=(299, 299), \n",
    "                                                 subset=\"validation\",\n",
    "                                                 class_mode='categorical')"
   ]
  },
  {
   "cell_type": "code",
   "execution_count": 10,
   "id": "63506a70",
   "metadata": {},
   "outputs": [
    {
     "name": "stderr",
     "output_type": "stream",
     "text": [
      "C:\\Users\\ASUS TUF F15\\AppData\\Local\\Temp\\ipykernel_14628\\3945788155.py:5: UserWarning: `Model.fit_generator` is deprecated and will be removed in a future version. Please use `Model.fit`, which supports generators.\n",
      "  model_history=model.fit_generator(\n"
     ]
    },
    {
     "name": "stdout",
     "output_type": "stream",
     "text": [
      "Epoch 1/10\n",
      "WARNING:tensorflow:From C:\\Users\\ASUS TUF F15\\AppData\\Roaming\\Python\\Python311\\site-packages\\keras\\src\\utils\\tf_utils.py:492: The name tf.ragged.RaggedTensorValue is deprecated. Please use tf.compat.v1.ragged.RaggedTensorValue instead.\n",
      "\n",
      "WARNING:tensorflow:From C:\\Users\\ASUS TUF F15\\AppData\\Roaming\\Python\\Python311\\site-packages\\keras\\src\\engine\\base_layer_utils.py:384: The name tf.executing_eagerly_outside_functions is deprecated. Please use tf.compat.v1.executing_eagerly_outside_functions instead.\n",
      "\n",
      "\n",
      "Epoch 1: val_loss improved from inf to 2.13565, saving model to mymodel2.h5\n"
     ]
    },
    {
     "name": "stderr",
     "output_type": "stream",
     "text": [
      "C:\\Users\\ASUS TUF F15\\AppData\\Roaming\\Python\\Python311\\site-packages\\keras\\src\\engine\\training.py:3103: UserWarning: You are saving your model as an HDF5 file via `model.save()`. This file format is considered legacy. We recommend using instead the native Keras format, e.g. `model.save('my_model.keras')`.\n",
      "  saving_api.save_model(\n"
     ]
    },
    {
     "name": "stdout",
     "output_type": "stream",
     "text": [
      "5/5 - 278s - loss: 2.5852 - accuracy: 0.1875 - val_loss: 2.1357 - val_accuracy: 0.3203 - 278s/epoch - 56s/step\n",
      "Epoch 2/10\n",
      "\n",
      "Epoch 2: val_loss did not improve from 2.13565\n",
      "5/5 - 335s - loss: 2.1489 - accuracy: 0.2500 - val_loss: 2.1893 - val_accuracy: 0.3066 - 335s/epoch - 67s/step\n",
      "Epoch 3/10\n",
      "\n",
      "Epoch 3: val_loss did not improve from 2.13565\n",
      "5/5 - 223s - loss: 2.1298 - accuracy: 0.3500 - val_loss: 2.1452 - val_accuracy: 0.2930 - 223s/epoch - 45s/step\n",
      "Epoch 4/10\n",
      "\n",
      "Epoch 4: val_loss did not improve from 2.13565\n",
      "5/5 - 168s - loss: 2.0065 - accuracy: 0.3625 - val_loss: 2.1652 - val_accuracy: 0.2871 - 168s/epoch - 34s/step\n",
      "Epoch 5/10\n",
      "\n",
      "Epoch 5: val_loss did not improve from 2.13565\n",
      "5/5 - 155s - loss: 1.8902 - accuracy: 0.3750 - val_loss: 2.1769 - val_accuracy: 0.2832 - 155s/epoch - 31s/step\n",
      "Epoch 6/10\n",
      "\n",
      "Epoch 6: val_loss improved from 2.13565 to 2.08123, saving model to mymodel2.h5\n",
      "5/5 - 152s - loss: 2.1245 - accuracy: 0.2875 - val_loss: 2.0812 - val_accuracy: 0.2695 - 152s/epoch - 30s/step\n",
      "Epoch 7/10\n",
      "\n",
      "Epoch 7: val_loss improved from 2.08123 to 1.95490, saving model to mymodel2.h5\n",
      "5/5 - 163s - loss: 2.0055 - accuracy: 0.2875 - val_loss: 1.9549 - val_accuracy: 0.2949 - 163s/epoch - 33s/step\n",
      "Epoch 8/10\n",
      "\n",
      "Epoch 8: val_loss did not improve from 1.95490\n",
      "5/5 - 171s - loss: 1.9418 - accuracy: 0.3750 - val_loss: 1.9845 - val_accuracy: 0.3223 - 171s/epoch - 34s/step\n",
      "Epoch 9/10\n",
      "\n",
      "Epoch 9: val_loss did not improve from 1.95490\n",
      "5/5 - 187s - loss: 2.0288 - accuracy: 0.2625 - val_loss: 1.9755 - val_accuracy: 0.2910 - 187s/epoch - 37s/step\n",
      "Epoch 10/10\n",
      "\n",
      "Epoch 10: val_loss did not improve from 1.95490\n",
      "5/5 - 168s - loss: 1.6909 - accuracy: 0.4250 - val_loss: 2.0573 - val_accuracy: 0.2930 - 168s/epoch - 34s/step\n"
     ]
    }
   ],
   "source": [
    "checkpoint = ModelCheckpoint(filepath='mymodel2.h5', \n",
    "                               verbose=2, save_best_only=True)\n",
    "\n",
    "callbacks = [checkpoint]\n",
    "model_history=model.fit_generator(\n",
    "  train_dataset,\n",
    "  validation_data=validation_dataset,\n",
    "  epochs=10,\n",
    "  steps_per_epoch=5,\n",
    "  validation_steps=32,\n",
    "    callbacks=callbacks ,verbose=2)"
   ]
  },
  {
   "cell_type": "code",
   "execution_count": null,
   "id": "501f9de0",
   "metadata": {},
   "outputs": [],
   "source": []
  }
 ],
 "metadata": {
  "kernelspec": {
   "display_name": "Python 3 (ipykernel)",
   "language": "python",
   "name": "python3"
  },
  "language_info": {
   "codemirror_mode": {
    "name": "ipython",
    "version": 3
   },
   "file_extension": ".py",
   "mimetype": "text/x-python",
   "name": "python",
   "nbconvert_exporter": "python",
   "pygments_lexer": "ipython3",
   "version": "3.11.4"
  }
 },
 "nbformat": 4,
 "nbformat_minor": 5
}
